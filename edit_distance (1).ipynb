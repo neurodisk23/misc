{
  "nbformat": 4,
  "nbformat_minor": 0,
  "metadata": {
    "colab": {
      "provenance": []
    },
    "kernelspec": {
      "name": "python3",
      "display_name": "Python 3"
    },
    "language_info": {
      "name": "python"
    }
  },
  "cells": [
    {
      "cell_type": "code",
      "execution_count": 1,
      "metadata": {
        "id": "CXqAuAauoqbj"
      },
      "outputs": [],
      "source": [
        "import numpy as np\n",
        "import pandas as pd"
      ]
    },
    {
      "cell_type": "code",
      "source": [
        "def edit_distance(x, y, D=1, I=1, S=1):\n",
        "    n = len(x)\n",
        "    m = len(y)\n",
        "    \n",
        "    rows = list(x) + ['end']\n",
        "    columns = list(y) + ['end']\n",
        "    \n",
        "    matrix = pd.DataFrame(np.zeros((n+1,m+1), \n",
        "                          dtype = np.int),\n",
        "                          columns = columns,\n",
        "                          index = rows) \n",
        "    \n",
        "    min_cost = matrix.copy()\n",
        "    \n",
        "    best = matrix.copy().astype(np.object)\n",
        "    \n",
        "    for i,a in enumerate(rows):\n",
        "        for j,b in enumerate(columns):\n",
        "            if a != b:\n",
        "                matrix.iloc[i,j] = 1\n",
        "    \n",
        "    for i,a in enumerate(rows):\n",
        "        min_cost.iloc[i][m] = (n - i) * D\n",
        "        best.iloc[i][m] = (i+1,m, 'delete ' + a)\n",
        "    \n",
        "    for j,b in enumerate(columns):\n",
        "        min_cost.iloc[n][j] = (m - j) * I\n",
        "        best.iloc[n][j] = (n,j+1, 'insert ' + b)\n",
        "    \n",
        "    def solve(i, j):\n",
        "        a = rows[i]\n",
        "        b = columns[j]\n",
        "        \n",
        "        d_cost = D + min_cost.iloc[i+1,j]\n",
        "        i_cost = I + min_cost.iloc[i,j+1]\n",
        "        s_cost = S * matrix.iloc[i,j] + min_cost.iloc[i+1,j+1]\n",
        "        \n",
        "        c_min = min(d_cost, i_cost, s_cost)\n",
        "        \n",
        "        min_cost.iloc[i,j] = c_min\n",
        "        \n",
        "        if d_cost == c_min:\n",
        "            best.iloc[i,j] = (i+1, j, 'delete ' + a)\n",
        "        elif i_cost == c_min:\n",
        "            best.iloc[i,j] = (i, j+1, 'insert ' + b)\n",
        "        else:\n",
        "            if matrix.iloc[i,j] == 0:\n",
        "                best.iloc[i,j] = (i+1, j+1, 'match ' + b)\n",
        "            else:\n",
        "                best.iloc[i,j] = (i+1, j+1, 'substitute ' + a + ' for ' + b )\n",
        "\n",
        "    for i in range(n-1, -1, -1):\n",
        "        for j in range(m-1, -1, -1):\n",
        "            solve(i,j)\n",
        "            \n",
        "    i, j = (0, 0)\n",
        "    solution = []\n",
        "    \n",
        "    while i < n + 1 and j < m + 1:\n",
        "        step = best.iloc[i,j]\n",
        "        solution.append(step[2])\n",
        "        i = step[0]\n",
        "        j = step[1]\n",
        "    insert = 0\n",
        "    match_ = 0\n",
        "    substitute = 0\n",
        "    for i in range(len(solution)):\n",
        "      if \"insert\" in solution[i]:\n",
        "        insert +=1 \n",
        "      if \"match\" in solution[i]:\n",
        "        match_ +=1 \n",
        "      if \"substitute\" in solution[i]:\n",
        "        substitute +=1\n",
        "\n",
        "    \n",
        "    return(solution, min_cost.iloc[0,0],insert,match_,substitute)"
      ],
      "metadata": {
        "id": "JWsWUXnwotyI"
      },
      "execution_count": 2,
      "outputs": []
    },
    {
      "cell_type": "code",
      "source": [
        "a,b,c,d,e = edit_distance('harshal','maharaj')\n",
        "print(\"\\n Solution\", a)\n",
        "print(\"\\n Minimum Cost \", b)\n",
        "print(\"\\n NUmber of insert\",c)\n",
        "print(\"\\n Number of Matches\", d)\n",
        "print(\"\\n Number of Substitution \", e)"
      ],
      "metadata": {
        "colab": {
          "base_uri": "https://localhost:8080/"
        },
        "id": "Cmx70il_o9od",
        "outputId": "f7f66cbb-549b-4b86-db30-3b28c69f74fa"
      },
      "execution_count": 5,
      "outputs": [
        {
          "output_type": "stream",
          "name": "stdout",
          "text": [
            "\n",
            " Solution ['insert m', 'insert a', 'match h', 'match a', 'match r', 'delete s', 'delete h', 'match a', 'substitute l for j', 'insert end']\n",
            "\n",
            " Minimum Cost  5\n",
            "\n",
            " NUmber of insert 3\n",
            "\n",
            " Number of Matches 4\n",
            "\n",
            " Number of Substitution  1\n"
          ]
        },
        {
          "output_type": "stream",
          "name": "stderr",
          "text": [
            "<ipython-input-2-fde10d87488c>:9: DeprecationWarning: `np.int` is a deprecated alias for the builtin `int`. To silence this warning, use `int` by itself. Doing this will not modify any behavior and is safe. When replacing `np.int`, you may wish to use e.g. `np.int64` or `np.int32` to specify the precision. If you wish to review your current use, check the release note link for additional information.\n",
            "Deprecated in NumPy 1.20; for more details and guidance: https://numpy.org/devdocs/release/1.20.0-notes.html#deprecations\n",
            "  dtype = np.int),\n",
            "<ipython-input-2-fde10d87488c>:15: DeprecationWarning: `np.object` is a deprecated alias for the builtin `object`. To silence this warning, use `object` by itself. Doing this will not modify any behavior and is safe. \n",
            "Deprecated in NumPy 1.20; for more details and guidance: https://numpy.org/devdocs/release/1.20.0-notes.html#deprecations\n",
            "  best = matrix.copy().astype(np.object)\n"
          ]
        }
      ]
    },
    {
      "cell_type": "code",
      "source": [
        "list_a = \"के बारे में सत्यापित किया गया है कि वे मूल रूप से मंगल से हैं \""
      ],
      "metadata": {
        "id": "VIRb7JH_-DXZ"
      },
      "execution_count": 7,
      "outputs": []
    },
    {
      "cell_type": "code",
      "source": [
        "word_a = \"good\"\n",
        "word_b = \"मंगल\""
      ],
      "metadata": {
        "id": "pKYX5CHa_LSK"
      },
      "execution_count": 8,
      "outputs": []
    },
    {
      "cell_type": "code",
      "source": [
        "a,b,c,d,e = edit_distance(word_a,word_b)\n",
        "print(\"\\n Solution\", a)\n",
        "print(\"\\n Minimum Cost \", b)\n",
        "print(\"\\n NUmber of insert\",c)\n",
        "print(\"\\n Number of Matches\", d)\n",
        "print(\"\\n Number of Substitution  \", e)\n",
        "print(\" \\n \\n\")"
      ],
      "metadata": {
        "colab": {
          "base_uri": "https://localhost:8080/"
        },
        "id": "QQuy5QKO_PxP",
        "outputId": "c90bf0b1-78b2-4648-a424-96630b3b4cb2"
      },
      "execution_count": 11,
      "outputs": [
        {
          "output_type": "stream",
          "name": "stdout",
          "text": [
            "\n",
            " Solution ['substitute g for म', 'substitute o for ं', 'substitute o for ग', 'substitute d for ल', 'insert end']\n",
            "\n",
            " Minimum Cost  4\n",
            "\n",
            " NUmber of insert 1\n",
            "\n",
            " Number of Matches 0\n",
            "\n",
            " Number of Substitution   4\n",
            " \n",
            " \n",
            "\n"
          ]
        },
        {
          "output_type": "stream",
          "name": "stderr",
          "text": [
            "<ipython-input-2-fde10d87488c>:9: DeprecationWarning: `np.int` is a deprecated alias for the builtin `int`. To silence this warning, use `int` by itself. Doing this will not modify any behavior and is safe. When replacing `np.int`, you may wish to use e.g. `np.int64` or `np.int32` to specify the precision. If you wish to review your current use, check the release note link for additional information.\n",
            "Deprecated in NumPy 1.20; for more details and guidance: https://numpy.org/devdocs/release/1.20.0-notes.html#deprecations\n",
            "  dtype = np.int),\n",
            "<ipython-input-2-fde10d87488c>:15: DeprecationWarning: `np.object` is a deprecated alias for the builtin `object`. To silence this warning, use `object` by itself. Doing this will not modify any behavior and is safe. \n",
            "Deprecated in NumPy 1.20; for more details and guidance: https://numpy.org/devdocs/release/1.20.0-notes.html#deprecations\n",
            "  best = matrix.copy().astype(np.object)\n"
          ]
        }
      ]
    },
    {
      "cell_type": "code",
      "source": [
        "word_a = \"सत्यापित\"\n",
        "word_b = \"मंगल\"\n",
        "a,b,c,d,e = edit_distance(word_a,word_b)\n",
        "print(\"\\n Solution\", a)\n",
        "print(\"\\n Minimum Cost \", b)\n",
        "print(\"\\n NUmber of insert\",c)\n",
        "print(\"\\n Number of Matches\", d)\n",
        "print(\"\\n Number of Substitution  \", e)\n",
        "print(\" \\n \\n\")"
      ],
      "metadata": {
        "colab": {
          "base_uri": "https://localhost:8080/"
        },
        "id": "SNRQnCDL_peG",
        "outputId": "9d5fd717-9054-488c-9143-2f2db6866184"
      },
      "execution_count": 12,
      "outputs": [
        {
          "output_type": "stream",
          "name": "stdout",
          "text": [
            "\n",
            " Solution ['delete स', 'delete त', 'delete ्', 'delete य', 'substitute ा for म', 'substitute प for ं', 'substitute ि for ग', 'substitute त for ल', 'insert end']\n",
            "\n",
            " Minimum Cost  8\n",
            "\n",
            " NUmber of insert 1\n",
            "\n",
            " Number of Matches 0\n",
            "\n",
            " Number of Substitution   4\n",
            " \n",
            " \n",
            "\n"
          ]
        },
        {
          "output_type": "stream",
          "name": "stderr",
          "text": [
            "<ipython-input-2-fde10d87488c>:9: DeprecationWarning: `np.int` is a deprecated alias for the builtin `int`. To silence this warning, use `int` by itself. Doing this will not modify any behavior and is safe. When replacing `np.int`, you may wish to use e.g. `np.int64` or `np.int32` to specify the precision. If you wish to review your current use, check the release note link for additional information.\n",
            "Deprecated in NumPy 1.20; for more details and guidance: https://numpy.org/devdocs/release/1.20.0-notes.html#deprecations\n",
            "  dtype = np.int),\n",
            "<ipython-input-2-fde10d87488c>:15: DeprecationWarning: `np.object` is a deprecated alias for the builtin `object`. To silence this warning, use `object` by itself. Doing this will not modify any behavior and is safe. \n",
            "Deprecated in NumPy 1.20; for more details and guidance: https://numpy.org/devdocs/release/1.20.0-notes.html#deprecations\n",
            "  best = matrix.copy().astype(np.object)\n"
          ]
        }
      ]
    },
    {
      "cell_type": "code",
      "source": [],
      "metadata": {
        "id": "inCNVivZ_q7W"
      },
      "execution_count": null,
      "outputs": []
    }
  ]
}